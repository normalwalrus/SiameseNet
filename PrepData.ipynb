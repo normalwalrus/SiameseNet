{
 "cells": [
  {
   "cell_type": "code",
   "execution_count": 1,
   "metadata": {},
   "outputs": [],
   "source": [
    "import torchvision\n",
    "from glob import glob\n",
    "from torch.utils.data import Dataset\n",
    "\n",
    "import torch\n",
    "import torch.nn as nn\n",
    "import numpy as np\n",
    "import pandas as pd"
   ]
  },
  {
   "cell_type": "markdown",
   "metadata": {},
   "source": [
    "### Dataset class for getting positive and negative classes for training"
   ]
  },
  {
   "cell_type": "code",
   "execution_count": 2,
   "metadata": {},
   "outputs": [],
   "source": [
    "from torch.utils.data import Dataset\n",
    "from torchvision import transforms\n",
    "import random\n",
    "from PIL import Image\n",
    "\n",
    "class SmileDataset(Dataset):\n",
    "    def __init__(self, relations, person_to_image) -> None:\n",
    "        super().__init__()\n",
    "\n",
    "        self.relations = relations\n",
    "        self.person_to_image = person_to_image\n",
    "        self.people_labels = list(person_to_image.keys())\n",
    "    \n",
    "    def __len__(self):\n",
    "        #2 times since we only have positive examples and every alternate example is negative\n",
    "        return len(self.relations) * 2 \n",
    "\n",
    "    def __getitem__(self, index):\n",
    "\n",
    "        #positive example\n",
    "        if (index%2==0): \n",
    "            p1, p2 = self.relations[index//2]\n",
    "            label = 1\n",
    "\n",
    "        #negative example\n",
    "        else:\n",
    "            while True:\n",
    "                p1 = random.choice(self.people_labels) \n",
    "                p2 = random.choice(self.people_labels) \n",
    "                if (p1 != p2) and (p1, p2) not in self.relations and (p2, p1) not in self.relations:\n",
    "                    break \n",
    "            label = 0\n",
    "\n",
    "        path1 = self.person_to_image[p1]\n",
    "        path2 = self.person_to_image[p2]\n",
    "        \n",
    "        image1 = Image.open(path1[random.randint(0, len(path1)-1)])\n",
    "        image2 = Image.open(path2[random.randint(0, len(path2)-1)])\n",
    "        \n",
    "        convert_image_to_tensor_transform = transforms.ToTensor()\n",
    "\n",
    "        image1_tensor = convert_image_to_tensor_transform(image1)\n",
    "        image2_tensor = convert_image_to_tensor_transform(image2)\n",
    "\n",
    "        return image1_tensor, image2_tensor, label"
   ]
  },
  {
   "cell_type": "markdown",
   "metadata": {},
   "source": [
    "### Creating a dictionary with (Family) \\\\\\\\ (ID) as the key and the path to the images under that one person"
   ]
  },
  {
   "cell_type": "code",
   "execution_count": 3,
   "metadata": {},
   "outputs": [],
   "source": [
    "import pandas as pd\n",
    "\n",
    "train_file_path = \"./train_relationships.csv\"\n",
    "train_images_path = \"./train/\"\n",
    "\n",
    "all_images = glob(train_images_path + \"*/*/*.jpg\")\n",
    "train_person_to_images = {}\n",
    "\n",
    "for x in all_images:\n",
    "\n",
    "    if x.split(\"\\\\\")[-3] + \"/\" + x.split(\"\\\\\")[-2] not in train_person_to_images:\n",
    "        train_person_to_images[x.split(\"\\\\\")[-3] + \"/\" + x.split(\"\\\\\")[-2]] = [x]\n",
    "\n",
    "    else:\n",
    "        train_person_to_images[x.split(\"\\\\\")[-3] + \"/\" + x.split(\"\\\\\")[-2]].append(x)\n",
    "\n",
    "train_people = [x.split(\"\\\\\")[-3] + \"/\" + x.split(\"\\\\\")[-2] for x in all_images]\n",
    "train_people = list(dict.fromkeys(train_people)) # removing the duplicates\n",
    "\n",
    "relationships = pd.read_csv(train_file_path)\n",
    "relationships = list(zip(relationships.p1.values, relationships.p2.values))\n",
    "relationships = [x for x in relationships if x[0] in train_people and x[1] in train_people] #Check if people are in the training dataset\n"
   ]
  },
  {
   "cell_type": "markdown",
   "metadata": {},
   "source": [
    "### Instantiate the SmileDataset class"
   ]
  },
  {
   "cell_type": "code",
   "execution_count": 4,
   "metadata": {},
   "outputs": [],
   "source": [
    "from torch.utils.data import DataLoader\n",
    "\n",
    "train_dataset = SmileDataset(relations = relationships, person_to_image= train_person_to_images)\n",
    "trainloader = DataLoader(train_dataset, batch_size= 100, shuffle = True)"
   ]
  },
  {
   "cell_type": "markdown",
   "metadata": {},
   "source": [
    "### Training time!! :) (Work in progress)"
   ]
  },
  {
   "cell_type": "code",
   "execution_count": 5,
   "metadata": {},
   "outputs": [
    {
     "name": "stderr",
     "output_type": "stream",
     "text": [
      "c:\\Users\\ianch\\AppData\\Local\\Programs\\Python\\Python311\\Lib\\site-packages\\tqdm\\auto.py:21: TqdmWarning: IProgress not found. Please update jupyter and ipywidgets. See https://ipywidgets.readthedocs.io/en/stable/user_install.html\n",
      "  from .autonotebook import tqdm as notebook_tqdm\n"
     ]
    },
    {
     "name": "stdout",
     "output_type": "stream",
     "text": [
      " [1 - 14.71%],\ttrain loss: 0.003624\n",
      " [1 - 29.41%],\ttrain loss: 0.0034453\n"
     ]
    },
    {
     "ename": "KeyboardInterrupt",
     "evalue": "",
     "output_type": "error",
     "traceback": [
      "\u001b[1;31m---------------------------------------------------------------------------\u001b[0m",
      "\u001b[1;31mKeyboardInterrupt\u001b[0m                         Traceback (most recent call last)",
      "\u001b[1;32mc:\\Users\\ianch\\Desktop\\Proj\\ML_FaceRecog\\SiameseNet\\PrepData.ipynb Cell 9\u001b[0m line \u001b[0;36m3\n\u001b[0;32m     <a href='vscode-notebook-cell:/c%3A/Users/ianch/Desktop/Proj/ML_FaceRecog/SiameseNet/PrepData.ipynb#X12sZmlsZQ%3D%3D?line=31'>32</a>\u001b[0m optimizer\u001b[39m.\u001b[39mstep()\n\u001b[0;32m     <a href='vscode-notebook-cell:/c%3A/Users/ianch/Desktop/Proj/ML_FaceRecog/SiameseNet/PrepData.ipynb#X12sZmlsZQ%3D%3D?line=33'>34</a>\u001b[0m train_loss \u001b[39m+\u001b[39m\u001b[39m=\u001b[39m loss\u001b[39m.\u001b[39mitem()\n\u001b[1;32m---> <a href='vscode-notebook-cell:/c%3A/Users/ianch/Desktop/Proj/ML_FaceRecog/SiameseNet/PrepData.ipynb#X12sZmlsZQ%3D%3D?line=34'>35</a>\u001b[0m running_loss \u001b[39m+\u001b[39m\u001b[39m=\u001b[39m loss\u001b[39m.\u001b[39;49mitem()\n\u001b[0;32m     <a href='vscode-notebook-cell:/c%3A/Users/ianch/Desktop/Proj/ML_FaceRecog/SiameseNet/PrepData.ipynb#X12sZmlsZQ%3D%3D?line=35'>36</a>\u001b[0m running_corrects \u001b[39m+\u001b[39m\u001b[39m=\u001b[39m torch\u001b[39m.\u001b[39msum(preds \u001b[39m==\u001b[39m label)\n\u001b[0;32m     <a href='vscode-notebook-cell:/c%3A/Users/ianch/Desktop/Proj/ML_FaceRecog/SiameseNet/PrepData.ipynb#X12sZmlsZQ%3D%3D?line=37'>38</a>\u001b[0m step \u001b[39m=\u001b[39m \u001b[39m10\u001b[39m\n",
      "\u001b[1;31mKeyboardInterrupt\u001b[0m: "
     ]
    }
   ],
   "source": [
    "from SiameseNet import SiameseNet\n",
    "\n",
    "lr = 0.001\n",
    "\n",
    "device = torch.device('cuda' if torch.cuda.is_available() else 'cpu')\n",
    "\n",
    "model = SiameseNet().to(device)\n",
    "criterion = nn.BCEWithLogitsLoss()\n",
    "optimizer = torch.optim.Adam(params= model.parameters(), lr = lr)\n",
    "\n",
    "num_epoch = 100\n",
    "best_epoch = 0\n",
    "\n",
    "history = []\n",
    "accuracy = []\n",
    "\n",
    "for epoch in range(num_epoch):\n",
    "    train_loss = 0.0\n",
    "    running_loss = 0.0\n",
    "    running_corrects = 0\n",
    "    for i, batch in enumerate(trainloader):\n",
    "        optimizer.zero_grad()\n",
    "        \n",
    "        tensor1, tensor2, label = batch\n",
    "        tensor1, tensor2, label = tensor1.to(device), tensor2.to(device), label.float().view(-1,1).to(device)\n",
    "        output = model(tensor1, tensor2)\n",
    "\n",
    "        preds = output>0.5\n",
    "        \n",
    "        loss = criterion(output, label)\n",
    "        loss.backward()\n",
    "        optimizer.step()\n",
    "        \n",
    "        train_loss += loss.item()\n",
    "        running_loss += loss.item()\n",
    "        running_corrects += torch.sum(preds == label)\n",
    "        \n",
    "        step = 10\n",
    "        if i % step == step-1:\n",
    "            print(' [{} - {:.2f}%],\\ttrain loss: {:.5}'.format(epoch+1, 100*(i+1)/len(trainloader), running_loss/step/200))\n",
    "            running_loss = 0\n",
    "        \n",
    "    "
   ]
  },
  {
   "cell_type": "code",
   "execution_count": null,
   "metadata": {},
   "outputs": [],
   "source": []
  }
 ],
 "metadata": {
  "kernelspec": {
   "display_name": "Python 3",
   "language": "python",
   "name": "python3"
  },
  "language_info": {
   "codemirror_mode": {
    "name": "ipython",
    "version": 3
   },
   "file_extension": ".py",
   "mimetype": "text/x-python",
   "name": "python",
   "nbconvert_exporter": "python",
   "pygments_lexer": "ipython3",
   "version": "3.11.1"
  },
  "orig_nbformat": 4
 },
 "nbformat": 4,
 "nbformat_minor": 2
}
