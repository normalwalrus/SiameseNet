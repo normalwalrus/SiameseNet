{
 "cells": [
  {
   "cell_type": "code",
   "execution_count": 2,
   "id": "2a67451d",
   "metadata": {},
   "outputs": [
    {
     "name": "stderr",
     "output_type": "stream",
     "text": [
      "c:\\Users\\ianch\\AppData\\Local\\Programs\\Python\\Python311\\Lib\\site-packages\\tqdm\\auto.py:21: TqdmWarning: IProgress not found. Please update jupyter and ipywidgets. See https://ipywidgets.readthedocs.io/en/stable/user_install.html\n",
      "  from .autonotebook import tqdm as notebook_tqdm\n"
     ]
    }
   ],
   "source": [
    "from facenet_pytorch import InceptionResnetV1\n",
    "import torch\n",
    "import torch.nn as nn\n",
    "\n",
    "class SiameseNet(nn.Module):\n",
    "    def __init__(self):\n",
    "        super().__init__()\n",
    "\n",
    "        self.encoder = InceptionResnetV1(pretrained='vggface2')\n",
    "        \n",
    "        emb_len = 512\n",
    "        self.last = nn.Sequential(\n",
    "            nn.Linear(4*emb_len, 200, bias=False), \n",
    "            nn.BatchNorm1d(200, eps=0.001, momentum=0.1, affine=True),\n",
    "            nn.ReLU(),\n",
    "            nn.Linear(200, 1)\n",
    "        )\n",
    "        \n",
    "    def forward(self, input1, input2):\n",
    "        \n",
    "        emb1 = self.encoder(input1)\n",
    "        emb2 = self.encoder(input2)\n",
    "        \n",
    "        x1 = torch.pow(emb1, 2) - torch.pow(emb2, 2)\n",
    "        x2 = torch.pow(emb1 - emb2, 2)\n",
    "        x3 = emb1 * emb2\n",
    "        x4 = emb1 + emb2\n",
    "        \n",
    "        x = torch.cat((x1,x2,x3,x4), dim=1)\n",
    "        x = self.last(x)\n",
    "        \n",
    "        return x"
   ]
  },
  {
   "cell_type": "code",
   "execution_count": 3,
   "id": "a33b4d24",
   "metadata": {},
   "outputs": [],
   "source": [
    "x = torch.tensor([0.10, 0.20])"
   ]
  },
  {
   "cell_type": "code",
   "execution_count": 6,
   "id": "f74a50a1",
   "metadata": {},
   "outputs": [
    {
     "data": {
      "text/plain": [
       "tensor([0.0100, 0.0400])"
      ]
     },
     "execution_count": 6,
     "metadata": {},
     "output_type": "execute_result"
    }
   ],
   "source": [
    "torch.pow(x, 2)"
   ]
  },
  {
   "cell_type": "code",
   "execution_count": null,
   "id": "8bb691fa",
   "metadata": {},
   "outputs": [],
   "source": []
  }
 ],
 "metadata": {
  "kernelspec": {
   "display_name": "Python 3 (ipykernel)",
   "language": "python",
   "name": "python3"
  },
  "language_info": {
   "codemirror_mode": {
    "name": "ipython",
    "version": 3
   },
   "file_extension": ".py",
   "mimetype": "text/x-python",
   "name": "python",
   "nbconvert_exporter": "python",
   "pygments_lexer": "ipython3",
   "version": "3.11.1"
  }
 },
 "nbformat": 4,
 "nbformat_minor": 5
}
